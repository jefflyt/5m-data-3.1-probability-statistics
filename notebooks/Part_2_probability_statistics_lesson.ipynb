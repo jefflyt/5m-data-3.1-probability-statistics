{
 "cells": [
  {
   "cell_type": "markdown",
   "metadata": {
    "id": "aTOLgsbN69-P"
   },
   "source": [
    "# Probability, Information Theory & Statistics"
   ]
  },
  {
   "cell_type": "markdown",
   "metadata": {
    "id": "yqUB9FTRAxd-"
   },
   "source": [
    "*Probability & Information Theory*, introduces the mathematical fields that enable us to quantify uncertainty as well as to make predictions despite uncertainty. These fields are essential because machine learning algorithms are both trained by imperfect data and deployed into noisy, real-world scenarios they haven’t encountered before.\n",
    "\n",
    "You’ll develop a working understanding of \n",
    "\n",
    "- Variables, probability distributions, metrics for assessing distributions.\n",
    "- Essential statistical tests for assessing whether data are correlated with each other or sampled from different populations -- tests which frequently come in handy for critically evaluating the inputs and outputs of machine learning algorithms."
   ]
  },
  {
   "cell_type": "markdown",
   "metadata": {
    "id": "fwp0wDiy5Chs"
   },
   "source": [
    "## Part 2: Distributions in Machine Learning"
   ]
  },
  {
   "cell_type": "markdown",
   "metadata": {
    "id": "UtNPNOzj5Cht"
   },
   "source": [
    "### Uniform"
   ]
  },
  {
   "cell_type": "markdown",
   "metadata": {
    "id": "mkg5ZlcY5Cht"
   },
   "source": [
    "The uniform distribution is about as straightforward as they come. It has constant probabilities across the entire range of values in its domain: "
   ]
  },
  {
   "cell_type": "code",
   "execution_count": null,
   "metadata": {},
   "outputs": [],
   "source": [
    "import numpy as np\n",
    "import scipy.stats as st\n",
    "import matplotlib.pyplot as plt\n",
    "import seaborn as sns"
   ]
  },
  {
   "cell_type": "code",
   "execution_count": null,
   "metadata": {
    "id": "m3kOc_-t5Cht"
   },
   "outputs": [],
   "source": [
    "u = np.random.uniform(size=10000)"
   ]
  },
  {
   "cell_type": "code",
   "execution_count": null,
   "metadata": {
    "id": "Nfqw-vNJ5Cht"
   },
   "outputs": [],
   "source": [
    "sns.set_style('ticks')"
   ]
  },
  {
   "cell_type": "code",
   "execution_count": null,
   "metadata": {
    "colab": {
     "base_uri": "https://localhost:8080/",
     "height": 0
    },
    "id": "yFF75RyzQCTu",
    "outputId": "7832b245-e4c4-4c98-d3d5-e0ab2d3d9de9"
   },
   "outputs": [],
   "source": [
    "_ = sns.displot(u)"
   ]
  },
  {
   "cell_type": "markdown",
   "metadata": {
    "id": "iAccWery5Cht"
   },
   "source": [
    "Real-world examples include: \n",
    "\n",
    "* Dice rolling (PMF)\n",
    "* Card drawing (PMF)\n",
    "* Model hyperparameters\n",
    "* Emission of radioactive particles\n",
    "* Economic demand \n",
    "* Analog-to-digital signal quantization errors"
   ]
  },
  {
   "cell_type": "markdown",
   "metadata": {
    "id": "q0cQIl945Cht"
   },
   "source": [
    "### Gaussian"
   ]
  },
  {
   "cell_type": "markdown",
   "metadata": {
    "id": "-rW0khrV5Cht"
   },
   "source": [
    "Carl Friedrich Gauss (early 19th c. German mathematician and scientist) is the namesake of over a hundred concepts across mathematics, physics, and astronomy. One of those concepts is the Gaussian distribution, also known as the \"bell curve\" (though several distributions are bell-shaped) or **normal distribution**: "
   ]
  },
  {
   "cell_type": "code",
   "execution_count": null,
   "metadata": {
    "id": "zhcadaJu5Chu"
   },
   "outputs": [],
   "source": [
    "x = np.random.normal(size=10000)"
   ]
  },
  {
   "cell_type": "code",
   "execution_count": null,
   "metadata": {
    "colab": {
     "base_uri": "https://localhost:8080/",
     "height": 0
    },
    "id": "1cQ6-LIw5Chu",
    "outputId": "d284c154-ba0e-4c36-9b87-d5353e7ce8a9"
   },
   "outputs": [],
   "source": [
    "_ = sns.displot(x)"
   ]
  },
  {
   "cell_type": "code",
   "execution_count": null,
   "metadata": {
    "colab": {
     "base_uri": "https://localhost:8080/",
     "height": 0
    },
    "id": "sFpUGuMX5Chu",
    "outputId": "ca95419f-1f4c-47c2-9a3b-27657cc2cd43"
   },
   "outputs": [],
   "source": [
    "_ = sns.displot(x, kde=True)"
   ]
  },
  {
   "cell_type": "markdown",
   "metadata": {
    "id": "fCrRRX1F5Chu"
   },
   "source": [
    "When the normal distribution has a mean ($\\mu$) of zero and standard deviation ($\\sigma$) of one, as it does by default with the NumPy `normal()` method..."
   ]
  },
  {
   "cell_type": "code",
   "execution_count": null,
   "metadata": {
    "colab": {
     "base_uri": "https://localhost:8080/"
    },
    "id": "DMa4Z2h35Chu",
    "outputId": "d464e02b-27a1-41ae-c998-66dd874a00d2"
   },
   "outputs": [],
   "source": [
    "np.mean(x)"
   ]
  },
  {
   "cell_type": "code",
   "execution_count": null,
   "metadata": {
    "colab": {
     "base_uri": "https://localhost:8080/"
    },
    "id": "k8QSIvEJ5Chu",
    "outputId": "77b47571-090a-48b1-94d4-afb3e292941d",
    "scrolled": true
   },
   "outputs": [],
   "source": [
    "np.std(x)"
   ]
  },
  {
   "cell_type": "markdown",
   "metadata": {
    "id": "iD-WgAZd5Chv"
   },
   "source": [
    "...it is a **standard normal distribution** (a.k.a., standard Gaussian distribution). Normal distributions can be denoted with the *math calligraphy* font as $\\mathcal{N}(\\mu, \\sigma^2)$, thus the standard normal distribution can be denoted as $\\mathcal{N}(0, 1)$. \n",
    "\n",
    "(N.B.: $\\sigma^2 = \\sigma$ in this case because $1^2 = 1$.)"
   ]
  },
  {
   "cell_type": "markdown",
   "metadata": {
    "id": "3FelqdY05Chv"
   },
   "source": [
    "Normal distributions are by far the most common distribution in statistics and machine learning. They are typically the default option, particularly if you have limited information about the random process you're modeling, because: \n",
    "\n",
    "1. Normal distributions assume the greatest possible uncertainty about the random variable they represent (relative to any other distribution of equivalent variance). Details of this are beyond the scope of this tutorial. \n",
    "2. Simple and very complex random processes alike are, under all common conditions, normally distributed when we sample values from the process. Since we sample data for statistical and machine learning models alike, this so-called **central limit theorem** (covered next) is a critically important concept. "
   ]
  },
  {
   "cell_type": "markdown",
   "metadata": {
    "id": "WE8R8Y385Chv"
   },
   "source": [
    "Real-world examples include: \n",
    "\n",
    "* Probability of heads across *n* tosses (PMF; $n = 5$ earlier, $n = 100$ below)\n",
    "* Sum of di(c)e rolls (PMF)\n",
    "* Height of adult women\n",
    "* Height of adult men\n",
    "* Education test scores, e.g., SAT"
   ]
  },
  {
   "cell_type": "code",
   "execution_count": null,
   "metadata": {
    "id": "iLylH-4m5Chv"
   },
   "outputs": [],
   "source": [
    "n_experiments = 10000\n",
    "heads_count = [np.random.binomial(100, 0.5) for i in range (n_experiments)]\n",
    "heads, event_count = np.unique(heads_count, return_counts=True)\n",
    "event_proba = event_count/n_experiments"
   ]
  },
  {
   "cell_type": "code",
   "execution_count": null,
   "metadata": {
    "colab": {
     "base_uri": "https://localhost:8080/",
     "height": 0
    },
    "id": "1OAA4vlZ5Chv",
    "outputId": "630c7d28-1e0f-4028-f56e-2a0d3267c11b"
   },
   "outputs": [],
   "source": [
    "plt.bar(heads, event_proba)\n",
    "_ = plt.xlabel('Heads flips (out of 100 tosses)')"
   ]
  },
  {
   "cell_type": "markdown",
   "metadata": {
    "id": "HOY28bQX5Chv"
   },
   "source": [
    "### The Central Limit Theorem"
   ]
  },
  {
   "cell_type": "markdown",
   "metadata": {
    "id": "9UIXSsAh5Chv"
   },
   "source": [
    "To develop a functional understanding of the CLT, let's sample some values from our normal distribution:"
   ]
  },
  {
   "cell_type": "code",
   "execution_count": null,
   "metadata": {
    "colab": {
     "base_uri": "https://localhost:8080/"
    },
    "id": "GJkIY5N75Chw",
    "outputId": "ab039c5e-9083-48f1-dfeb-c7b5e6971629"
   },
   "outputs": [],
   "source": [
    "x_sample = np.random.choice(x, size=10, replace=False)\n",
    "x_sample"
   ]
  },
  {
   "cell_type": "markdown",
   "metadata": {
    "id": "SrS19VdK5Chw"
   },
   "source": [
    "The mean of a sample isn't always going to be close to zero with such a small sample:"
   ]
  },
  {
   "cell_type": "code",
   "execution_count": null,
   "metadata": {
    "colab": {
     "base_uri": "https://localhost:8080/"
    },
    "id": "2B3kjm-H5Chw",
    "outputId": "51bae542-ee5e-4c06-bd28-17830bcd5ca0"
   },
   "outputs": [],
   "source": [
    "np.mean(x_sample)"
   ]
  },
  {
   "cell_type": "markdown",
   "metadata": {
    "id": "nOlR7gor5Chw"
   },
   "source": [
    "Let's define a function for generating **sampling distributions** of the mean of a given input distribution:"
   ]
  },
  {
   "cell_type": "code",
   "execution_count": null,
   "metadata": {
    "id": "YiPPxQLF5Chw"
   },
   "outputs": [],
   "source": [
    "def sample_mean_calculator(input_dist, sample_size, n_samples):\n",
    "    sample_means = []\n",
    "    for i in range(n_samples):\n",
    "        sample = np.random.choice(input_dist, size=sample_size, replace=False)\n",
    "        sample_means.append(sample.mean())\n",
    "    return sample_means"
   ]
  },
  {
   "cell_type": "code",
   "execution_count": null,
   "metadata": {
    "colab": {
     "base_uri": "https://localhost:8080/",
     "height": 0
    },
    "id": "0FAWIZvn5Chw",
    "outputId": "800adc78-a094-4d6f-d132-86b1de881e1b"
   },
   "outputs": [],
   "source": [
    "sns.displot(sample_mean_calculator(x, 10, 10), color='green')\n",
    "_ = plt.xlim(-1.5, 1.5)"
   ]
  },
  {
   "cell_type": "markdown",
   "metadata": {
    "id": "5KWmR4HE5Chx"
   },
   "source": [
    "The more samples we take, the more likely that the sampling distribution of the means will be normally distributed: "
   ]
  },
  {
   "cell_type": "code",
   "execution_count": null,
   "metadata": {
    "colab": {
     "base_uri": "https://localhost:8080/",
     "height": 0
    },
    "id": "_8ZtuXJu5Chx",
    "outputId": "3f623974-5a47-4a50-c5fd-1204e8fd4f80"
   },
   "outputs": [],
   "source": [
    "sns.displot(sample_mean_calculator(x, 10, 1000), color='green', kde=True)\n",
    "_ = plt.xlim(-1.5, 1.5)"
   ]
  },
  {
   "cell_type": "markdown",
   "metadata": {
    "id": "jgeYnkEz5Chx"
   },
   "source": [
    "The larger the sample, the tighter the sample means will tend to be around the population mean:"
   ]
  },
  {
   "cell_type": "code",
   "execution_count": null,
   "metadata": {
    "colab": {
     "base_uri": "https://localhost:8080/",
     "height": 0
    },
    "id": "d1plzceb5Chx",
    "outputId": "61cda73a-ec69-4978-bb14-9eb0f6d6baa4"
   },
   "outputs": [],
   "source": [
    "sns.displot(sample_mean_calculator(x, 100, 1000), color='green', kde=True)\n",
    "_ = plt.xlim(-1.5, 1.5)"
   ]
  },
  {
   "cell_type": "code",
   "execution_count": null,
   "metadata": {
    "colab": {
     "base_uri": "https://localhost:8080/",
     "height": 0
    },
    "id": "ITeo-nOc5Chx",
    "outputId": "d7fdb42e-d921-460d-f4d8-be8ec512b817"
   },
   "outputs": [],
   "source": [
    "sns.displot(sample_mean_calculator(x, 1000, 1000), color='green', kde=True)\n",
    "_ = plt.xlim(-1.5, 1.5)"
   ]
  },
  {
   "cell_type": "markdown",
   "metadata": {
    "id": "Jti_SH175Chx"
   },
   "source": [
    "#### Sampling from a skewed distribution"
   ]
  },
  {
   "cell_type": "code",
   "execution_count": null,
   "metadata": {
    "id": "T-cjJ4K65Chx"
   },
   "outputs": [],
   "source": [
    "s = st.skewnorm.rvs(10, size=10000)"
   ]
  },
  {
   "cell_type": "code",
   "execution_count": null,
   "metadata": {
    "colab": {
     "base_uri": "https://localhost:8080/",
     "height": 0
    },
    "id": "bYcXrbZ45Chx",
    "outputId": "04af0856-6666-4570-a80c-870d3f161902"
   },
   "outputs": [],
   "source": [
    "_ = sns.displot(s, kde=True)"
   ]
  },
  {
   "cell_type": "code",
   "execution_count": null,
   "metadata": {
    "colab": {
     "base_uri": "https://localhost:8080/",
     "height": 0
    },
    "id": "X5asvK2p5Chy",
    "outputId": "0651daa8-b5e0-418d-cd5a-ff96e7cb0c48"
   },
   "outputs": [],
   "source": [
    "_ = sns.displot(sample_mean_calculator(s, 10, 1000), color='green', kde=True)"
   ]
  },
  {
   "cell_type": "code",
   "execution_count": null,
   "metadata": {
    "colab": {
     "base_uri": "https://localhost:8080/",
     "height": 0
    },
    "id": "o5-tyS_N5Chy",
    "outputId": "a1a1a4ac-a1db-42e8-989b-67c2f18f1dbb"
   },
   "outputs": [],
   "source": [
    "_ = sns.displot(sample_mean_calculator(s, 1000, 1000), color='green', kde=True)"
   ]
  },
  {
   "cell_type": "markdown",
   "metadata": {
    "id": "VD1FyOP-5Chy"
   },
   "source": [
    "#### Sampling from a multimodal distribution"
   ]
  },
  {
   "cell_type": "code",
   "execution_count": null,
   "metadata": {
    "id": "qefz7pqq5Chy"
   },
   "outputs": [],
   "source": [
    "m = np.concatenate((np.random.normal(size=5000), np.random.normal(loc = 4.0, size=5000)))"
   ]
  },
  {
   "cell_type": "code",
   "execution_count": null,
   "metadata": {
    "colab": {
     "base_uri": "https://localhost:8080/",
     "height": 0
    },
    "id": "dUVIgXcq5Chy",
    "outputId": "23c9d418-605f-4823-bf21-86c5030cc936"
   },
   "outputs": [],
   "source": [
    "_ = sns.displot(m, kde=True)"
   ]
  },
  {
   "cell_type": "code",
   "execution_count": null,
   "metadata": {
    "colab": {
     "base_uri": "https://localhost:8080/",
     "height": 0
    },
    "id": "RooddaTD5Chy",
    "outputId": "78bd7195-678a-4485-a5d5-a78649793113"
   },
   "outputs": [],
   "source": [
    "_ = sns.displot(sample_mean_calculator(m, 1000, 1000), color='green', kde=True)"
   ]
  },
  {
   "cell_type": "markdown",
   "metadata": {
    "id": "5LjEuVP85Chz"
   },
   "source": [
    "#### Sampling from uniform"
   ]
  },
  {
   "cell_type": "markdown",
   "metadata": {
    "id": "IwjCW3vY5Chz"
   },
   "source": [
    "Even sampling from the highly non-normal uniform distribution, the sampling distribution comes out normal: "
   ]
  },
  {
   "cell_type": "code",
   "execution_count": null,
   "metadata": {
    "colab": {
     "base_uri": "https://localhost:8080/",
     "height": 0
    },
    "id": "9yf6jQQW5Chz",
    "outputId": "21a4ec75-0720-4d65-eeeb-bd9fc6524be2"
   },
   "outputs": [],
   "source": [
    "_ = sns.displot(u)"
   ]
  },
  {
   "cell_type": "code",
   "execution_count": null,
   "metadata": {
    "colab": {
     "base_uri": "https://localhost:8080/",
     "height": 0
    },
    "id": "AKEuTLxd5Chz",
    "outputId": "e4f4a983-1354-410a-bd22-dc5ed03384d8"
   },
   "outputs": [],
   "source": [
    "_ = sns.displot(sample_mean_calculator(u, 1000, 1000), color='green', kde=True)"
   ]
  },
  {
   "cell_type": "markdown",
   "metadata": {
    "id": "3rU0m--S5Chz"
   },
   "source": [
    "Therefore, with large enough sample sizes, we can assume the sampling distribution of the means will be normally distributed, allowing us to apply statistical and ML models that are configured for normally distributed noise, which is often the default assumption.\n",
    "\n",
    "As an example, the \"*t*-test\" allows us to infer whether two samples come from different populations (say, an experimental group that receives a treatment and a control group that receives a placebo). Thanks to the CLT, we can use this test even if we have no idea what the underlying distributions of the populations being tested are, which may be the case more frequently than not. "
   ]
  },
  {
   "cell_type": "markdown",
   "metadata": {
    "id": "UHfmjg3I5Chz"
   },
   "source": [
    "(Despite being associated with such a key concept as the CLT, the name \"normal distribution\" wasn't originally intended to imply that other distributions are \"abnormal\". It's a historical quirk related to Gauss describing orthogonal (technically a.k.a. \"normal\") equations associated with applied uses of the distribution.)"
   ]
  },
  {
   "cell_type": "markdown",
   "metadata": {
    "id": "I7HILoi55Chz"
   },
   "source": [
    "(Finally, you may wonder what the purpose of sampling means is! Well, when we gather data from the real world we are nearly always sampling a subset of all the available data produced by a given random process. And, once we've collected a sample of data, the aspect of it we're often most interested in above all else is its mean.)"
   ]
  },
  {
   "cell_type": "markdown",
   "metadata": {
    "id": "pj-m50lH5Ch0"
   },
   "source": [
    "### Exponential Distribution"
   ]
  },
  {
   "cell_type": "markdown",
   "metadata": {
    "id": "oBeXEmHF5Ch0"
   },
   "source": [
    "Relatively squished up against zero and then decreases exponentially toward higher values."
   ]
  },
  {
   "cell_type": "code",
   "execution_count": null,
   "metadata": {
    "id": "tQy3DRwB5Ch0"
   },
   "outputs": [],
   "source": [
    "x = np.random.exponential(scale=4, size=10000) # \"scale\" parameter defaults to one"
   ]
  },
  {
   "cell_type": "code",
   "execution_count": null,
   "metadata": {
    "colab": {
     "base_uri": "https://localhost:8080/",
     "height": 0
    },
    "id": "sTFF5gku5Ch0",
    "outputId": "2e382b46-5b9a-472a-d932-b71ee512b062"
   },
   "outputs": [],
   "source": [
    "_ = sns.displot(x)"
   ]
  },
  {
   "cell_type": "markdown",
   "metadata": {
    "id": "NMC_Fxai5Ch1"
   },
   "source": [
    "Its logarithm has a skewed distribution: "
   ]
  },
  {
   "cell_type": "code",
   "execution_count": null,
   "metadata": {
    "colab": {
     "base_uri": "https://localhost:8080/",
     "height": 0
    },
    "id": "dV1cUVv65Ch1",
    "outputId": "5e7df796-0faa-4bca-8f36-bad2ba49a226"
   },
   "outputs": [],
   "source": [
    "_ = sns.displot(np.log(x), color='brown', kde=True)"
   ]
  },
  {
   "cell_type": "markdown",
   "metadata": {
    "id": "5T79UJ9c5Ch1"
   },
   "source": [
    "Real-world examples: \n",
    "\n",
    "* Time between requests to access Wikipedia pages\n",
    "* Used frequently in deep learning"
   ]
  },
  {
   "cell_type": "markdown",
   "metadata": {
    "id": "9Dvi1l8o5Ch2"
   },
   "source": [
    "### Binomial Distribution"
   ]
  },
  {
   "cell_type": "markdown",
   "metadata": {
    "id": "Yco-2t4s5Ch2"
   },
   "source": [
    "All distributions so far have been for continuous variables (PDFs). This one is discrete (PMF). \n",
    "\n",
    "We've already been using it for coin flips; it's used for binary (0 or 1) outcome. \n",
    "\n",
    "Its parameters are: \n",
    "\n",
    "* *n*: number of trials\n",
    "* *p*: probability of outcome of 1\n",
    "* *size*: number of experiments with *n* trials each"
   ]
  },
  {
   "cell_type": "code",
   "execution_count": null,
   "metadata": {
    "id": "LmaDYQm75Ch2"
   },
   "outputs": [],
   "source": [
    "n = 5\n",
    "n_experiments = 1000"
   ]
  },
  {
   "cell_type": "markdown",
   "metadata": {
    "id": "vfSCVQer5Ch2"
   },
   "source": [
    "#### Fair coin (p = 0.5)"
   ]
  },
  {
   "cell_type": "code",
   "execution_count": null,
   "metadata": {
    "id": "YnyWevsS5Ch2"
   },
   "outputs": [],
   "source": [
    "heads_count = np.random.binomial(n, 0.5, n_experiments)\n",
    "heads, event_count = np.unique(heads_count, return_counts=True)\n",
    "event_proba = event_count/n_experiments"
   ]
  },
  {
   "cell_type": "code",
   "execution_count": null,
   "metadata": {
    "colab": {
     "base_uri": "https://localhost:8080/",
     "height": 0
    },
    "id": "5i0myZqv5Ch2",
    "outputId": "cddef694-fb5c-4238-d31a-fbb7d305ae83"
   },
   "outputs": [],
   "source": [
    "plt.bar(heads, event_proba, color='mediumpurple')\n",
    "plt.xlabel('Heads flips (out of 5 tosses)')\n",
    "_ = plt.ylabel('Event probability')"
   ]
  },
  {
   "cell_type": "markdown",
   "metadata": {
    "id": "i5qIJ8-m5Ch3"
   },
   "source": [
    "#### Weighted coin (p = 0.8)"
   ]
  },
  {
   "cell_type": "code",
   "execution_count": null,
   "metadata": {
    "id": "eT0s3yiI5Ch3"
   },
   "outputs": [],
   "source": [
    "heads_count = np.random.binomial(n, 0.8, n_experiments)\n",
    "heads, event_count = np.unique(heads_count, return_counts=True)\n",
    "event_proba = event_count/n_experiments"
   ]
  },
  {
   "cell_type": "code",
   "execution_count": null,
   "metadata": {
    "colab": {
     "base_uri": "https://localhost:8080/",
     "height": 0
    },
    "id": "SB2qD95l5Ch3",
    "outputId": "440cb648-14d2-4257-e7da-2235e5d743f4"
   },
   "outputs": [],
   "source": [
    "plt.bar(heads, event_proba, color='mediumpurple')\n",
    "plt.xlabel('Heads flips (out of 5 tosses)')\n",
    "_ = plt.ylabel('Event probability')"
   ]
  },
  {
   "cell_type": "markdown",
   "metadata": {
    "id": "cjCnz1zD5Ch3"
   },
   "source": [
    "Technically, binomial distributions are created by sampling $n>1$ \"Bernoulli trials\". The **Bernoulli** distribution is equivalent to the binomial distribution where $n=1$: "
   ]
  },
  {
   "cell_type": "code",
   "execution_count": null,
   "metadata": {
    "colab": {
     "base_uri": "https://localhost:8080/"
    },
    "id": "9j9WlO9v5Ch3",
    "outputId": "6e31e058-53cd-4be5-9295-80a0a7cac225"
   },
   "outputs": [],
   "source": [
    "np.random.binomial(1, 0.5)"
   ]
  },
  {
   "cell_type": "markdown",
   "metadata": {
    "id": "xuv_176n5Ch3"
   },
   "source": [
    "Real-world examples:\n",
    "\n",
    "* Making it to work on time\n",
    "* Candidate being invited to interview\n",
    "* Epidemiology: probability of death or catching disease"
   ]
  },
  {
   "cell_type": "markdown",
   "metadata": {
    "id": "dXZYgPdw5Ch4"
   },
   "source": [
    "### Multinomial Distribution"
   ]
  },
  {
   "cell_type": "markdown",
   "metadata": {
    "id": "aVhAIJvE5Ch4"
   },
   "source": [
    "Generalization of the binomial distribution to discrete random variables with more than two possible outcomes, e.g., the roll of a die: "
   ]
  },
  {
   "cell_type": "code",
   "execution_count": null,
   "metadata": {
    "id": "bvnRByqA5Ch4"
   },
   "outputs": [],
   "source": [
    "n = 1000"
   ]
  },
  {
   "cell_type": "code",
   "execution_count": null,
   "metadata": {
    "colab": {
     "base_uri": "https://localhost:8080/"
    },
    "id": "tYPHmsMT5Ch4",
    "outputId": "91569fbb-8cb7-4fcf-c3dd-cc68821bbd1a"
   },
   "outputs": [],
   "source": [
    "rolls = np.random.multinomial(n, [1/6.]*6)\n",
    "rolls"
   ]
  },
  {
   "cell_type": "code",
   "execution_count": null,
   "metadata": {
    "id": "dB9d5Zo_5Ch4"
   },
   "outputs": [],
   "source": [
    "event_proba = rolls/n"
   ]
  },
  {
   "cell_type": "code",
   "execution_count": null,
   "metadata": {
    "colab": {
     "base_uri": "https://localhost:8080/",
     "height": 0
    },
    "id": "04T9DyGf5Ch4",
    "outputId": "bdeafc1f-706e-44a9-91dd-f0d5ca9ecb5e"
   },
   "outputs": [],
   "source": [
    "plt.bar(range(1, 7), event_proba, color='mediumpurple')\n",
    "plt.xlabel('Die roll')\n",
    "_ = plt.ylabel('Event probability')"
   ]
  },
  {
   "cell_type": "markdown",
   "metadata": {
    "id": "aWl-KRXL5Ch4"
   },
   "source": [
    "As in the binomial case, multinomial distributions are created by sampling $n>1$ multinoulli distributions, where the multinoulli distribution is equivalent to the multinomial distribution when $n=1$: "
   ]
  },
  {
   "cell_type": "code",
   "execution_count": null,
   "metadata": {
    "colab": {
     "base_uri": "https://localhost:8080/"
    },
    "id": "MrwYus375Ch4",
    "outputId": "ac085f89-8800-410c-c6aa-fdf21ca12b60"
   },
   "outputs": [],
   "source": [
    "np.random.multinomial(1, [1/6.]*6)"
   ]
  },
  {
   "cell_type": "markdown",
   "metadata": {
    "id": "Bs2JiMaN5Ch5"
   },
   "source": [
    "Since multinomial distributions can represent any categorical variable (e.g., burger, hot dog, pizza; 52 playing cards; NFL teams), not just integer values, we can't always calculate an expected value."
   ]
  }
 ],
 "metadata": {
  "colab": {
   "include_colab_link": true,
   "name": "5-probability.ipynb",
   "provenance": []
  },
  "kernelspec": {
   "display_name": "ml",
   "language": "python",
   "name": "python3"
  },
  "language_info": {
   "codemirror_mode": {
    "name": "ipython",
    "version": 3
   },
   "file_extension": ".py",
   "mimetype": "text/x-python",
   "name": "python",
   "nbconvert_exporter": "python",
   "pygments_lexer": "ipython3",
   "version": "3.11.5"
  }
 },
 "nbformat": 4,
 "nbformat_minor": 4
}
